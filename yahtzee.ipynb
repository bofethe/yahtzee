{
 "cells": [
  {
   "attachments": {},
   "cell_type": "markdown",
   "metadata": {},
   "source": [
    "# Yahtzee\n",
    "By: Bo Fethe"
   ]
  },
  {
   "attachments": {},
   "cell_type": "markdown",
   "metadata": {},
   "source": [
    "## History\n",
    "Yahtzee is a dice game that originates from a Canadian couple who creatively called it \"The Yacht Game\" because they would play it on their yacht with friends. In 1956, Polish toymaker and entrepreneur, Edwin S. Lowe, introduced this game into the market and was it later purchased by Milton Bradley in 1973. This game combines strategy, probability, and luck to achieve the highest score."
   ]
  },
  {
   "attachments": {},
   "cell_type": "markdown",
   "metadata": {},
   "source": [
    "## Rules\n",
    "+ Players: 1+\n",
    "+ Rounds: 13\n",
    "\n",
    "The round starts with the player rolling 5 dice. The player then decides which dice they wish to keep or re-roll for up to 3 rolls. Once the turn is over, a score is recorded on the scorecard for one of the categories based on the available points in the last roll. If the upper section of the score card exceeds 63, then an additional 35 points is awarded. The player can only score once per round and all scores are final. The game ends once all 13 categories are filled in."
   ]
  },
  {
   "attachments": {},
   "cell_type": "markdown",
   "metadata": {},
   "source": [
    "### Scorecard\n",
    "\n",
    "|   **UPPER**  |                           |\n",
    "|:------------:|:-------------------------:|\n",
    "| Category     | Points                    |\n",
    "| Aces = 1     |   Count and Add Only 1s   |\n",
    "| Twos = 2     |   Count and Add Only 2s   |\n",
    "| Threes = 3   |   Count and Add Only 3s   |\n",
    "| Fours = 4    |   Count and Add Only 4s   |\n",
    "| Fives = 5    |   Count and Add Only 5s   |\n",
    "| Sixes = 6    |   Count and Add Only 6s   |\n",
    "| Bonus        | 35 *If Upper Score   > 63* |\n",
    "| Total Upper  |                           |\n",
    "|   **LOWER**  |                           |\n",
    "| Category     |           Points          |\n",
    "| 3 of a Kind  |   Add Total of All Dice   |\n",
    "| 4 of a Kind  |   Add Total of All Dice   |\n",
    "| Full House   |             25            |\n",
    "| Sm. Straight |             30            |\n",
    "| Lg. Straight |             40            |\n",
    "| YAHTZEE      |             50            |\n",
    "| Chance       |   Add Total of All Dice   |\n",
    "| Total Lower  |                           |\n",
    "| Grand Total  |                           |"
   ]
  }
 ],
 "metadata": {
  "language_info": {
   "name": "python"
  },
  "orig_nbformat": 4
 },
 "nbformat": 4,
 "nbformat_minor": 2
}
